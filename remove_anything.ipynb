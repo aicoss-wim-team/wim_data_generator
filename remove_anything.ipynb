{
 "cells": [
  {
   "cell_type": "code",
   "execution_count": 1,
   "metadata": {},
   "outputs": [
    {
     "name": "stderr",
     "output_type": "stream",
     "text": [
      "/raid/coss07/anaconda3/envs/IA/lib/python3.9/site-packages/tqdm/auto.py:21: TqdmWarning: IProgress not found. Please update jupyter and ipywidgets. See https://ipywidgets.readthedocs.io/en/stable/user_install.html\n",
      "  from .autonotebook import tqdm as notebook_tqdm\n",
      "/raid/coss07/anaconda3/envs/IA/lib/python3.9/site-packages/scipy/__init__.py:155: UserWarning: A NumPy version >=1.18.5 and <1.25.0 is required for this version of SciPy (detected version 1.26.2\n",
      "  warnings.warn(f\"A NumPy version >={np_minversion} and <{np_maxversion}\"\n",
      "2023-11-16 10:21:15.153749: E tensorflow/compiler/xla/stream_executor/cuda/cuda_dnn.cc:9342] Unable to register cuDNN factory: Attempting to register factory for plugin cuDNN when one has already been registered\n",
      "2023-11-16 10:21:15.153793: E tensorflow/compiler/xla/stream_executor/cuda/cuda_fft.cc:609] Unable to register cuFFT factory: Attempting to register factory for plugin cuFFT when one has already been registered\n",
      "2023-11-16 10:21:15.153829: E tensorflow/compiler/xla/stream_executor/cuda/cuda_blas.cc:1518] Unable to register cuBLAS factory: Attempting to register factory for plugin cuBLAS when one has already been registered\n",
      "2023-11-16 10:21:15.163155: I tensorflow/core/platform/cpu_feature_guard.cc:182] This TensorFlow binary is optimized to use available CPU instructions in performance-critical operations.\n",
      "To enable the following instructions: AVX2 AVX512F FMA, in other operations, rebuild TensorFlow with the appropriate compiler flags.\n",
      "2023-11-16 10:21:15.933837: W tensorflow/compiler/tf2tensorrt/utils/py_utils.cc:38] TF-TRT Warning: Could not find TensorRT\n"
     ]
    },
    {
     "name": "stdout",
     "output_type": "stream",
     "text": [
      "Detectron v2 is not installed\n"
     ]
    }
   ],
   "source": [
    "import torch\n",
    "import sys\n",
    "import argparse\n",
    "import numpy as np\n",
    "from pathlib import Path\n",
    "from matplotlib import pyplot as plt\n",
    "\n",
    "from sam_segment import predict_masks_with_sam\n",
    "from lama_inpaint import inpaint_img_with_lama\n",
    "from utils import load_img_to_array, save_array_to_img, dilate_mask, \\\n",
    "    show_mask, show_points, get_clicked_point"
   ]
  },
  {
   "cell_type": "code",
   "execution_count": 2,
   "metadata": {},
   "outputs": [],
   "source": [
    "\n",
    "input_img = '../wim_data/train/images/2023-04-21_48.mp4#t=0.jpg'\n",
    "point_labels = [1]\n",
    "sam_model_type = \"vit_h\"\n",
    "sam_ckpt = './pretrained_models/sam_vit_h_4b8939.pth'"
   ]
  },
  {
   "cell_type": "code",
   "execution_count": 3,
   "metadata": {},
   "outputs": [],
   "source": [
    "def normalized_coordinate_to_absolute(norm_x, norm_y, image_width=1280, image_height=720):\n",
    "    abs_x = int(norm_x * image_width)\n",
    "    abs_y = int(norm_y * image_height)\n",
    "    return [abs_x, abs_y]"
   ]
  },
  {
   "cell_type": "code",
   "execution_count": 4,
   "metadata": {},
   "outputs": [
    {
     "data": {
      "text/plain": [
       "[435, 627]"
      ]
     },
     "execution_count": 4,
     "metadata": {},
     "output_type": "execute_result"
    }
   ],
   "source": [
    "x_center, y_center = 0.3401102687801516, 0.871380974264706\n",
    "latest_coords = normalized_coordinate_to_absolute(x_center, y_center)#0.3401102687801516, 0.871380974264706\n",
    "latest_coords"
   ]
  },
  {
   "cell_type": "code",
   "execution_count": 5,
   "metadata": {},
   "outputs": [],
   "source": [
    "device = \"cuda\" if torch.cuda.is_available() else \"cpu\"\n",
    "img = load_img_to_array(input_img)"
   ]
  },
  {
   "cell_type": "code",
   "execution_count": 6,
   "metadata": {},
   "outputs": [],
   "source": [
    "masks, _, _ = predict_masks_with_sam(\n",
    "        img,\n",
    "        [latest_coords],\n",
    "        point_labels,\n",
    "        model_type=sam_model_type,\n",
    "        ckpt_p=sam_ckpt,\n",
    "        device=device,\n",
    "    )"
   ]
  },
  {
   "cell_type": "code",
   "execution_count": 7,
   "metadata": {},
   "outputs": [],
   "source": [
    "masks = masks.astype(np.uint8)* 255"
   ]
  },
  {
   "cell_type": "code",
   "execution_count": 8,
   "metadata": {},
   "outputs": [],
   "source": [
    "mask = masks[2]"
   ]
  },
  {
   "cell_type": "code",
   "execution_count": 9,
   "metadata": {},
   "outputs": [],
   "source": [
    "lama_config = 'lama/configs/prediction/default.yaml'\n",
    "lama_ckpt = './pretrained_models/big-lama'\n",
    "out_dir = './results'"
   ]
  },
  {
   "cell_type": "code",
   "execution_count": 11,
   "metadata": {},
   "outputs": [
    {
     "name": "stderr",
     "output_type": "stream",
     "text": [
      "                                      \r"
     ]
    }
   ],
   "source": [
    "for idx, mask in enumerate(masks):\n",
    "    mask_p =  f\"./results/mask_cust_{idx}.png\"\n",
    "    img_inpainted_p = f\"./results/inpainted_{Path(mask_p).name}\"\n",
    "    img_inpainted = inpaint_img_with_lama(\n",
    "        img, mask, lama_config, lama_ckpt, device=device)\n",
    "    save_array_to_img(img_inpainted, img_inpainted_p)"
   ]
  },
  {
   "cell_type": "code",
   "execution_count": 12,
   "metadata": {},
   "outputs": [
    {
     "data": {
      "text/plain": [
       "array([[[ 0, 22,  1],\n",
       "        [ 0, 22,  1],\n",
       "        [ 0, 22,  1],\n",
       "        ...,\n",
       "        [21, 39,  1],\n",
       "        [21, 37,  0],\n",
       "        [21, 37,  0]],\n",
       "\n",
       "       [[ 0, 22,  1],\n",
       "        [ 0, 22,  1],\n",
       "        [ 0, 22,  1],\n",
       "        ...,\n",
       "        [22, 40,  0],\n",
       "        [21, 39,  1],\n",
       "        [21, 39,  1]],\n",
       "\n",
       "       [[ 0, 22,  1],\n",
       "        [ 0, 22,  1],\n",
       "        [ 0, 22,  1],\n",
       "        ...,\n",
       "        [26, 44,  4],\n",
       "        [26, 42,  3],\n",
       "        [26, 42,  5]],\n",
       "\n",
       "       ...,\n",
       "\n",
       "       [[42, 55,  2],\n",
       "        [42, 55,  2],\n",
       "        [42, 55,  2],\n",
       "        ...,\n",
       "        [ 0,  2,  0],\n",
       "        [ 0,  2,  0],\n",
       "        [ 1,  1,  0]],\n",
       "\n",
       "       [[42, 55,  2],\n",
       "        [42, 55,  2],\n",
       "        [42, 55,  2],\n",
       "        ...,\n",
       "        [ 4, 11,  4],\n",
       "        [ 4, 11,  4],\n",
       "        [ 4, 11,  4]],\n",
       "\n",
       "       [[42, 55,  2],\n",
       "        [42, 55,  2],\n",
       "        [42, 55,  2],\n",
       "        ...,\n",
       "        [28, 55, 36],\n",
       "        [30, 55, 36],\n",
       "        [28, 55, 36]]], dtype=uint8)"
      ]
     },
     "execution_count": 12,
     "metadata": {},
     "output_type": "execute_result"
    }
   ],
   "source": [
    "img_inpainted"
   ]
  },
  {
   "cell_type": "code",
   "execution_count": null,
   "metadata": {},
   "outputs": [],
   "source": []
  }
 ],
 "metadata": {
  "kernelspec": {
   "display_name": "IA",
   "language": "python",
   "name": "python3"
  },
  "language_info": {
   "codemirror_mode": {
    "name": "ipython",
    "version": 3
   },
   "file_extension": ".py",
   "mimetype": "text/x-python",
   "name": "python",
   "nbconvert_exporter": "python",
   "pygments_lexer": "ipython3",
   "version": "3.9.18"
  }
 },
 "nbformat": 4,
 "nbformat_minor": 2
}
