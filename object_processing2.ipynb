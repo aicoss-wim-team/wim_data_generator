{
 "cells": [
  {
   "cell_type": "code",
   "execution_count": 4,
   "metadata": {},
   "outputs": [],
   "source": [
    "import sys, os, shutil\n",
    "import argparse\n",
    "from utils import load_img_to_array, save_array_to_img, dilate_mask, \\\n",
    "    show_mask, show_points, get_clicked_point\n",
    "from pathlib import Path\n",
    "from matplotlib import pyplot as plt\n",
    "import numpy as np\n",
    "from tqdm import tqdm\n",
    "import cv2\n",
    "import albumentations as A"
   ]
  },
  {
   "cell_type": "code",
   "execution_count": 5,
   "id": "190e8e20-05a7-460d-8dd9-4a85acbf5239",
   "metadata": {},
   "outputs": [],
   "source": [
    "def draw_bounding_boxes(image, bbox_data):\n",
    "    for data in bbox_data:\n",
    "        class_id, x_center, y_center, width, height = data\n",
    "        x_center, y_center, width, height = [int(float(val) * image.shape[1]) if i % 2 == 0 else int(float(val) * image.shape[0]) for i, val in enumerate([x_center, y_center, width, height])]\n",
    "\n",
    "        # 좌표 계산\n",
    "        top_left = (x_center - width // 2, y_center - height // 2)\n",
    "        bottom_right = (x_center + width // 2, y_center + height // 2)\n",
    "\n",
    "        # 바운딩 박스 그리기\n",
    "        cv2.rectangle(image, top_left, bottom_right, (0, 255, 0), 2)\n",
    "        # 레이블 표시\n",
    "        cv2.putText(image, str(class_id), (top_left[0], top_left[1] - 10), cv2.FONT_HERSHEY_SIMPLEX, 0.5, (0, 255, 0), 2)"
   ]
  },
  {
   "cell_type": "code",
   "execution_count": 6,
   "id": "5b7a902c-75e3-4468-81a3-19769f376ced",
   "metadata": {},
   "outputs": [],
   "source": [
    "def draw_three_images(image1, image2, image3, bbox_data):\n",
    "    fig, (ax1, ax2, ax3) = plt.subplots(3, 1, figsize=(20, 20))\n",
    "    ax1.imshow(image1)\n",
    "    ax1.axis('off')\n",
    "\n",
    "    # 바운딩 박스와 레이블을 그린 이미지\n",
    "    #draw_bounding_boxes(image2, bbox_data)\n",
    "    ax2.imshow(image2)\n",
    "    ax2.axis('off')\n",
    "\n",
    "    draw_bounding_boxes(image3, bbox_data)\n",
    "    ax3.imshow(image3)\n",
    "    ax3.axis('off')\n",
    "    plt.show()"
   ]
  },
  {
   "cell_type": "code",
   "execution_count": 7,
   "id": "e03d271d",
   "metadata": {},
   "outputs": [],
   "source": [
    "def apply_transform_to_masked_area(image, mask, transform):\n",
    "    # 마스크 영역에만 변형을 적용하기 위해 ROI를 추출합니다.\n",
    "    roi = image.copy()\n",
    "    roi[mask == 0] = 0  # 마스크가 0인 부분을 제거 (검은색으로 만듦)\n",
    "\n",
    "    # 변형 적용\n",
    "    transformed_img = transform(image=roi)['image']\n",
    "    # 변형된 이미지를 원본 이미지에 다시 합치기\n",
    "    image[mask != 0] = transformed_img[mask != 0]\n",
    "\n",
    "    return image\n",
    "\n",
    "def apply_transform_to_background(image, mask, transform):\n",
    "    # 배경에만 변형을 적용하기 위해 배경 ROI를 추출합니다.\n",
    "    background_roi = image.copy()\n",
    "    background_roi[mask != 0] = 0  # 마스크가 0이 아닌 부분을 제거 (검은색으로 만듦)\n",
    "\n",
    "    # 변형 적용\n",
    "    transformed_background = transform(image=background_roi)['image']\n",
    "\n",
    "    # 변형된 배경을 원본 이미지에 다시 합치기\n",
    "    # 이 때 객체가 있는 부분은 그대로 유지합니다.\n",
    "    image[mask == 0] = transformed_background[mask == 0]\n",
    "\n",
    "    return image\n",
    "\n",
    "def create_folder_if_not_exists(folder_path):\n",
    "    if not os.path.exists(folder_path):\n",
    "        os.makedirs(folder_path)\n",
    "        \n",
    "        \n"
   ]
  },
  {
   "cell_type": "code",
   "execution_count": 8,
   "id": "929f7510-7a84-41b0-8cff-6c50e2d5ccf7",
   "metadata": {},
   "outputs": [],
   "source": [
    "img_folder_path =f'../wim_data/final_dataset/train/images/'\n",
    "mask_folder_path =f'../wim_data/object_processing_masks/'\n",
    "txt_folder_path = f'../wim_data/train/labels/'\n",
    "\n",
    "mask_file = '2023-04-24_41.mp4#t=126_mask.jpg'"
   ]
  },
  {
   "cell_type": "markdown",
   "id": "84ba89e0",
   "metadata": {},
   "source": [
    "### parameters"
   ]
  },
  {
   "cell_type": "code",
   "execution_count": 9,
   "id": "326d1259",
   "metadata": {},
   "outputs": [],
   "source": [
    "# task_name = 'bg': 배경 변환, 'ob': 오브젝트 변환\n",
    "task_name = 'ob'\n",
    "brightness_from, brightness_to = 0.5, 1\n",
    "contrast_from, contrast_to = 0, 0\n",
    "\n",
    "transform = A.Compose([\n",
    "    A.RandomBrightnessContrast(\n",
    "        always_apply=True, p=1.0,\n",
    "        brightness_limit=(brightness_from,brightness_to),\n",
    "        contrast_limit=(contrast_from, contrast_to),\n",
    "        brightness_by_max=False),\n",
    "])\n",
    "# Declare an augmentation pipeline"
   ]
  },
  {
   "cell_type": "markdown",
   "id": "88313126-71ed-483b-ac36-f0fe2d9c1890",
   "metadata": {},
   "source": [
    "#### 자동화"
   ]
  },
  {
   "cell_type": "code",
   "execution_count": 10,
   "id": "e6666377-3dec-4288-8de2-158b1f0b6f39",
   "metadata": {},
   "outputs": [],
   "source": [
    "mask_folder_path =f'../wim_data/object_processing_masks/'\n",
    "img_folder_path =f'../wim_data/final_dataset/train/images/'"
   ]
  },
  {
   "cell_type": "code",
   "execution_count": 11,
   "id": "7505a53a-a2cf-43d9-86df-a6bded7e87e1",
   "metadata": {},
   "outputs": [
    {
     "name": "stdout",
     "output_type": "stream",
     "text": [
      "1200\n"
     ]
    }
   ],
   "source": [
    "mask_files = [f for f in os.listdir(mask_folder_path) if f.endswith('.jpg') or f.endswith('.png')]\n",
    "print(len(mask_files))"
   ]
  },
  {
   "cell_type": "code",
   "execution_count": 14,
   "id": "927a6cef-cc37-4e76-9717-fb4d416dff97",
   "metadata": {},
   "outputs": [],
   "source": [
    "par_name = f'{task_name}_bright_{brightness_from}-{brightness_to}_contrast_{contrast_from}-{contrast_to}'\n",
    "processed_image_path = f'../wim_data/processed_img_final/{par_name}/'\n",
    "train_label_path = '/raid/coss07/yolov8/yolov8/Dataset_bind_16_17_21_24_25_26_27_29_31_32_7_20_28_deleted/train/labels'\n",
    "val_path = '/raid/coss07/yolov8/yolov8/Dataset_bind_16_17_21_24_25_26_27_29_31_32_7_20_28_deleted/val'\n",
    "test_path = '/raid/coss07/yolov8/yolov8/Dataset_bind_16_17_21_24_25_26_27_29_31_32_7_20_28_deleted/test'"
   ]
  },
  {
   "cell_type": "code",
   "execution_count": 15,
   "id": "4a053bdb-585c-4835-aa75-34787b2dcf69",
   "metadata": {},
   "outputs": [
    {
     "name": "stderr",
     "output_type": "stream",
     "text": [
      "100%|██████████| 1200/1200 [05:18<00:00,  3.77it/s]\n"
     ]
    },
    {
     "data": {
      "text/plain": [
       "'../wim_data/processed_img_final/ob_bright_0.5-1_contrast_0-0/test'"
      ]
     },
     "execution_count": 15,
     "metadata": {},
     "output_type": "execute_result"
    }
   ],
   "source": [
    "for mask_file in tqdm(mask_files):\n",
    "    splited = os.path.splitext(mask_file)\n",
    "    image_file = splited[0][:-5] + splited[1]\n",
    "    img = load_img_to_array(img_folder_path+image_file)\n",
    "    mask = load_img_to_array(mask_folder_path + mask_file)\n",
    "    \n",
    "    transformed_img = apply_transform_to_masked_area(img, mask, transform)\n",
    "    \n",
    "    create_folder_if_not_exists(processed_image_path+'train')\n",
    "    create_folder_if_not_exists(processed_image_path+'train/images')\n",
    "    \n",
    "    save_array_to_img(transformed_img, processed_image_path+'train/images/' + image_file)\n",
    "    \n",
    "shutil.copytree(train_label_path, processed_image_path+'train/labels')\n",
    "shutil.copytree(val_path, processed_image_path+'val')\n",
    "shutil.copytree(test_path, processed_image_path+'test')\n"
   ]
  },
  {
   "cell_type": "code",
   "execution_count": null,
   "id": "b04e3d8c",
   "metadata": {},
   "outputs": [],
   "source": [
    "splited = os.path.splitext(mask_file)\n",
    "image_file = splited[0][:-5] + splited[1]\n",
    "\n",
    "print(img_folder_path+image_file)\n",
    "img2 = load_img_to_array(img_folder_path+image_file)\n",
    "img = load_img_to_array(img_folder_path+image_file)\n",
    "mask = load_img_to_array(mask_folder_path + mask_file)\n",
    "\n",
    "\n",
    "txt_file = os.path.join(txt_folder_path, os.path.splitext(image_file)[0] + '.txt')\n",
    "\n",
    "with open(txt_file, 'r') as file:\n",
    "    lines = file.readlines()\n",
    "    bbox_data = [line.strip().split() for line in lines]\n",
    "\n",
    "# 기호에 맞게 ㅎ\n",
    "#transformed_img = apply_transform_to_background(img2, mask, transform)\n",
    "transformed_img = apply_transform_to_masked_area(img2, mask, transform)\n",
    "\n",
    "draw_three_images(img,mask, img2, bbox_data)"
   ]
  },
  {
   "cell_type": "code",
   "execution_count": 49,
   "id": "b5547845-d15f-46db-abe1-8ede14641f55",
   "metadata": {},
   "outputs": [
    {
     "ename": "FileExistsError",
     "evalue": "[Errno 17] File exists: '../wim_data/processed_images/bg_bright_0.5-1_contrast_0-0/val'",
     "output_type": "error",
     "traceback": [
      "\u001b[0;31m---------------------------------------------------------------------------\u001b[0m",
      "\u001b[0;31mFileExistsError\u001b[0m                           Traceback (most recent call last)",
      "Cell \u001b[0;32mIn[49], line 1\u001b[0m\n\u001b[0;32m----> 1\u001b[0m \u001b[43mshutil\u001b[49m\u001b[38;5;241;43m.\u001b[39;49m\u001b[43mcopytree\u001b[49m\u001b[43m(\u001b[49m\u001b[43mval_path\u001b[49m\u001b[43m,\u001b[49m\u001b[43m \u001b[49m\u001b[43mprocessed_image_path\u001b[49m\u001b[38;5;241;43m+\u001b[39;49m\u001b[38;5;124;43m'\u001b[39;49m\u001b[38;5;124;43mval\u001b[39;49m\u001b[38;5;124;43m'\u001b[39;49m\u001b[43m)\u001b[49m\n\u001b[1;32m      2\u001b[0m \u001b[38;5;66;03m#shutil.copytree(test_path, processed_image_path+'test')\u001b[39;00m\n",
      "File \u001b[0;32m/raid/coss07/anaconda3/envs/IA/lib/python3.9/shutil.py:568\u001b[0m, in \u001b[0;36mcopytree\u001b[0;34m(src, dst, symlinks, ignore, copy_function, ignore_dangling_symlinks, dirs_exist_ok)\u001b[0m\n\u001b[1;32m    566\u001b[0m \u001b[38;5;28;01mwith\u001b[39;00m os\u001b[38;5;241m.\u001b[39mscandir(src) \u001b[38;5;28;01mas\u001b[39;00m itr:\n\u001b[1;32m    567\u001b[0m     entries \u001b[38;5;241m=\u001b[39m \u001b[38;5;28mlist\u001b[39m(itr)\n\u001b[0;32m--> 568\u001b[0m \u001b[38;5;28;01mreturn\u001b[39;00m \u001b[43m_copytree\u001b[49m\u001b[43m(\u001b[49m\u001b[43mentries\u001b[49m\u001b[38;5;241;43m=\u001b[39;49m\u001b[43mentries\u001b[49m\u001b[43m,\u001b[49m\u001b[43m \u001b[49m\u001b[43msrc\u001b[49m\u001b[38;5;241;43m=\u001b[39;49m\u001b[43msrc\u001b[49m\u001b[43m,\u001b[49m\u001b[43m \u001b[49m\u001b[43mdst\u001b[49m\u001b[38;5;241;43m=\u001b[39;49m\u001b[43mdst\u001b[49m\u001b[43m,\u001b[49m\u001b[43m \u001b[49m\u001b[43msymlinks\u001b[49m\u001b[38;5;241;43m=\u001b[39;49m\u001b[43msymlinks\u001b[49m\u001b[43m,\u001b[49m\n\u001b[1;32m    569\u001b[0m \u001b[43m                 \u001b[49m\u001b[43mignore\u001b[49m\u001b[38;5;241;43m=\u001b[39;49m\u001b[43mignore\u001b[49m\u001b[43m,\u001b[49m\u001b[43m \u001b[49m\u001b[43mcopy_function\u001b[49m\u001b[38;5;241;43m=\u001b[39;49m\u001b[43mcopy_function\u001b[49m\u001b[43m,\u001b[49m\n\u001b[1;32m    570\u001b[0m \u001b[43m                 \u001b[49m\u001b[43mignore_dangling_symlinks\u001b[49m\u001b[38;5;241;43m=\u001b[39;49m\u001b[43mignore_dangling_symlinks\u001b[49m\u001b[43m,\u001b[49m\n\u001b[1;32m    571\u001b[0m \u001b[43m                 \u001b[49m\u001b[43mdirs_exist_ok\u001b[49m\u001b[38;5;241;43m=\u001b[39;49m\u001b[43mdirs_exist_ok\u001b[49m\u001b[43m)\u001b[49m\n",
      "File \u001b[0;32m/raid/coss07/anaconda3/envs/IA/lib/python3.9/shutil.py:467\u001b[0m, in \u001b[0;36m_copytree\u001b[0;34m(entries, src, dst, symlinks, ignore, copy_function, ignore_dangling_symlinks, dirs_exist_ok)\u001b[0m\n\u001b[1;32m    464\u001b[0m \u001b[38;5;28;01melse\u001b[39;00m:\n\u001b[1;32m    465\u001b[0m     ignored_names \u001b[38;5;241m=\u001b[39m \u001b[38;5;28mset\u001b[39m()\n\u001b[0;32m--> 467\u001b[0m \u001b[43mos\u001b[49m\u001b[38;5;241;43m.\u001b[39;49m\u001b[43mmakedirs\u001b[49m\u001b[43m(\u001b[49m\u001b[43mdst\u001b[49m\u001b[43m,\u001b[49m\u001b[43m \u001b[49m\u001b[43mexist_ok\u001b[49m\u001b[38;5;241;43m=\u001b[39;49m\u001b[43mdirs_exist_ok\u001b[49m\u001b[43m)\u001b[49m\n\u001b[1;32m    468\u001b[0m errors \u001b[38;5;241m=\u001b[39m []\n\u001b[1;32m    469\u001b[0m use_srcentry \u001b[38;5;241m=\u001b[39m copy_function \u001b[38;5;129;01mis\u001b[39;00m copy2 \u001b[38;5;129;01mor\u001b[39;00m copy_function \u001b[38;5;129;01mis\u001b[39;00m copy\n",
      "File \u001b[0;32m/raid/coss07/anaconda3/envs/IA/lib/python3.9/os.py:225\u001b[0m, in \u001b[0;36mmakedirs\u001b[0;34m(name, mode, exist_ok)\u001b[0m\n\u001b[1;32m    223\u001b[0m         \u001b[38;5;28;01mreturn\u001b[39;00m\n\u001b[1;32m    224\u001b[0m \u001b[38;5;28;01mtry\u001b[39;00m:\n\u001b[0;32m--> 225\u001b[0m     \u001b[43mmkdir\u001b[49m\u001b[43m(\u001b[49m\u001b[43mname\u001b[49m\u001b[43m,\u001b[49m\u001b[43m \u001b[49m\u001b[43mmode\u001b[49m\u001b[43m)\u001b[49m\n\u001b[1;32m    226\u001b[0m \u001b[38;5;28;01mexcept\u001b[39;00m \u001b[38;5;167;01mOSError\u001b[39;00m:\n\u001b[1;32m    227\u001b[0m     \u001b[38;5;66;03m# Cannot rely on checking for EEXIST, since the operating system\u001b[39;00m\n\u001b[1;32m    228\u001b[0m     \u001b[38;5;66;03m# could give priority to other errors like EACCES or EROFS\u001b[39;00m\n\u001b[1;32m    229\u001b[0m     \u001b[38;5;28;01mif\u001b[39;00m \u001b[38;5;129;01mnot\u001b[39;00m exist_ok \u001b[38;5;129;01mor\u001b[39;00m \u001b[38;5;129;01mnot\u001b[39;00m path\u001b[38;5;241m.\u001b[39misdir(name):\n",
      "\u001b[0;31mFileExistsError\u001b[0m: [Errno 17] File exists: '../wim_data/processed_images/bg_bright_0.5-1_contrast_0-0/val'"
     ]
    }
   ],
   "source": [
    "shutil.copytree(val_path, processed_image_path+'val')\n",
    "#shutil.copytree(test_path, processed_image_path+'test')"
   ]
  },
  {
   "cell_type": "code",
   "execution_count": null,
   "id": "60c91e8d",
   "metadata": {},
   "outputs": [],
   "source": []
  }
 ],
 "metadata": {
  "kernelspec": {
   "display_name": "Python 3 (ipykernel)",
   "language": "python",
   "name": "python3"
  },
  "language_info": {
   "codemirror_mode": {
    "name": "ipython",
    "version": 3
   },
   "file_extension": ".py",
   "mimetype": "text/x-python",
   "name": "python",
   "nbconvert_exporter": "python",
   "pygments_lexer": "ipython3",
   "version": "3.9.18"
  }
 },
 "nbformat": 4,
 "nbformat_minor": 5
}
