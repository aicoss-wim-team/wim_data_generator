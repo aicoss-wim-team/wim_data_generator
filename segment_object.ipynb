{
 "cells": [
  {
   "cell_type": "code",
   "execution_count": null,
   "metadata": {},
   "outputs": [],
   "source": [
    "import cv2\n",
    "import sys\n",
    "import argparse\n",
    "import numpy as np\n",
    "import torch\n",
    "from pathlib import Path\n",
    "from matplotlib import pyplot as plt\n",
    "from typing import Any, Dict, List\n",
    "\n",
    "from sam_segment import predict_masks_with_sam\n",
    "from utils import load_img_to_array, save_array_to_img, dilate_mask, \\\n",
    "    show_mask, show_points, get_clicked_point"
   ]
  }
 ],
 "metadata": {
  "kernelspec": {
   "display_name": "IA",
   "language": "python",
   "name": "python3"
  },
  "language_info": {
   "name": "python",
   "version": "3.9.18"
  }
 },
 "nbformat": 4,
 "nbformat_minor": 2
}
